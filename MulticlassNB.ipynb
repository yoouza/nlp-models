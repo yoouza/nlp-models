{
  "nbformat": 4,
  "nbformat_minor": 0,
  "metadata": {
    "colab": {
      "name": "MulticlassNB.ipynb",
      "provenance": [],
      "authorship_tag": "ABX9TyOalsZzt2bzRgFnG7IuRJH3",
      "include_colab_link": true
    },
    "kernelspec": {
      "name": "python3",
      "display_name": "Python 3"
    }
  },
  "cells": [
    {
      "cell_type": "markdown",
      "metadata": {
        "id": "view-in-github",
        "colab_type": "text"
      },
      "source": [
        "<a href=\"https://colab.research.google.com/github/2020-nlp-c/nlp-statisticsmodel/blob/master/bogyung/MulticlassNB.ipynb\" target=\"_parent\"><img src=\"https://colab.research.google.com/assets/colab-badge.svg\" alt=\"Open In Colab\"/></a>"
      ]
    },
    {
      "cell_type": "markdown",
      "metadata": {
        "id": "YNPK1l4ZSnec",
        "colab_type": "text"
      },
      "source": [
        "# Multinomial NB"
      ]
    },
    {
      "cell_type": "code",
      "metadata": {
        "id": "ym_icuNRSqmL",
        "colab_type": "code",
        "colab": {}
      },
      "source": [
        "import pandas as pd\n",
        "import numpy as np\n",
        "\n",
        "class MultinomialNB:\n",
        "    def __init__(self, data, input_tokens, k = 0.5):\n",
        "        self.data = data\n",
        "        self.input_tokens = input_tokens\n",
        "        self.k = k\n",
        "    \n",
        "    def percent(self):\n",
        "        tokens = []\n",
        "        for token in self.data.tokens:\n",
        "            for i in range(len(token)):\n",
        "                tokens.append(token[i])\n",
        "        tokens = np.unique(tokens)\n",
        "        labels = np.unique(self.data.label)\n",
        "        N = len(labels)\n",
        "        labels_num = np.zeros((N, len(tokens))) # labels, tokens 순서대로 빈도수 채운 list\n",
        "        \n",
        "        labels_dic = {}\n",
        "        for i, label in enumerate(labels):\n",
        "            labels_dic[label] = i\n",
        "\n",
        "        tokens_dic = {}\n",
        "        for i, token in enumerate(tokens):\n",
        "            tokens_dic[token] = i\n",
        "\n",
        "        for i, token_list in enumerate(self.data.tokens):\n",
        "            for token in token_list:\n",
        "                labels_num[ labels_dic[self.data.label[i]], tokens_dic[token] ] += 1\n",
        "\n",
        "        labels_log = np.zeros((N, len(tokens)))\n",
        "        for i in range(N):\n",
        "            for j in range(len(tokens)):\n",
        "                labels_log[i, j] = np.log((self.k + labels_num[i, j])/(2*self.k + labels_num[i].sum()))\n",
        "\n",
        "        labels_p = np.zeros(N)\n",
        "        for i in range(N):\n",
        "            labels_p[i] = np.log(labels_num[i].sum() / labels_num.sum())\n",
        "\n",
        "        for token in self.input_tokens.split():\n",
        "            for i in range(N):\n",
        "                labels_p[i] += labels_log[i, tokens_dic[token]]\n",
        "                \n",
        "        labels_exp_sum = 0\n",
        "        for i in range(N):\n",
        "            labels_exp_sum += np.exp(labels_p[i])\n",
        "\n",
        "        p_fin = np.exp(labels_p)/labels_exp_sum\n",
        "        return p_fin\n",
        "    \n",
        "    def result(self):\n",
        "        labels = np.unique(self.data.label)\n",
        "        return labels[np.argmax(self.percent())]"
      ],
      "execution_count": 1,
      "outputs": []
    },
    {
      "cell_type": "code",
      "metadata": {
        "id": "4K7XJ3wkgmqQ",
        "colab_type": "code",
        "colab": {}
      },
      "source": [
        "# multiclass: spam, normal, ad\n",
        "mail = [[\"me free lottery\", \"spam\"],\n",
        "        [\"free get free you\", \"spam\"],\n",
        "        [\"you free scholarship\", \"normal\"],\n",
        "        [\"free to contact me\", \"normal\"],\n",
        "        [\"you won award\", \"normal\"],\n",
        "        [\"you ticket lottery\", \"spam\"],\n",
        "        [\"free ticket\", \"ad\"],\n",
        "        [\"get scholarship\", \"ad\"]]\n",
        "df = pd.DataFrame(mail, columns = [\"tokens\", \"label\"])\n",
        "df.tokens = df.tokens.map(lambda x: x.split())"
      ],
      "execution_count": 2,
      "outputs": []
    },
    {
      "cell_type": "code",
      "metadata": {
        "id": "3fSJ_PaUilVH",
        "colab_type": "code",
        "colab": {
          "base_uri": "https://localhost:8080/",
          "height": 297
        },
        "outputId": "a9fbc799-7434-464e-954d-ff3fb5d3944a"
      },
      "source": [
        "df"
      ],
      "execution_count": 3,
      "outputs": [
        {
          "output_type": "execute_result",
          "data": {
            "text/html": [
              "<div>\n",
              "<style scoped>\n",
              "    .dataframe tbody tr th:only-of-type {\n",
              "        vertical-align: middle;\n",
              "    }\n",
              "\n",
              "    .dataframe tbody tr th {\n",
              "        vertical-align: top;\n",
              "    }\n",
              "\n",
              "    .dataframe thead th {\n",
              "        text-align: right;\n",
              "    }\n",
              "</style>\n",
              "<table border=\"1\" class=\"dataframe\">\n",
              "  <thead>\n",
              "    <tr style=\"text-align: right;\">\n",
              "      <th></th>\n",
              "      <th>tokens</th>\n",
              "      <th>label</th>\n",
              "    </tr>\n",
              "  </thead>\n",
              "  <tbody>\n",
              "    <tr>\n",
              "      <th>0</th>\n",
              "      <td>[me, free, lottery]</td>\n",
              "      <td>spam</td>\n",
              "    </tr>\n",
              "    <tr>\n",
              "      <th>1</th>\n",
              "      <td>[free, get, free, you]</td>\n",
              "      <td>spam</td>\n",
              "    </tr>\n",
              "    <tr>\n",
              "      <th>2</th>\n",
              "      <td>[you, free, scholarship]</td>\n",
              "      <td>normal</td>\n",
              "    </tr>\n",
              "    <tr>\n",
              "      <th>3</th>\n",
              "      <td>[free, to, contact, me]</td>\n",
              "      <td>normal</td>\n",
              "    </tr>\n",
              "    <tr>\n",
              "      <th>4</th>\n",
              "      <td>[you, won, award]</td>\n",
              "      <td>normal</td>\n",
              "    </tr>\n",
              "    <tr>\n",
              "      <th>5</th>\n",
              "      <td>[you, ticket, lottery]</td>\n",
              "      <td>spam</td>\n",
              "    </tr>\n",
              "    <tr>\n",
              "      <th>6</th>\n",
              "      <td>[free, ticket]</td>\n",
              "      <td>ad</td>\n",
              "    </tr>\n",
              "    <tr>\n",
              "      <th>7</th>\n",
              "      <td>[get, scholarship]</td>\n",
              "      <td>ad</td>\n",
              "    </tr>\n",
              "  </tbody>\n",
              "</table>\n",
              "</div>"
            ],
            "text/plain": [
              "                     tokens   label\n",
              "0       [me, free, lottery]    spam\n",
              "1    [free, get, free, you]    spam\n",
              "2  [you, free, scholarship]  normal\n",
              "3   [free, to, contact, me]  normal\n",
              "4         [you, won, award]  normal\n",
              "5    [you, ticket, lottery]    spam\n",
              "6            [free, ticket]      ad\n",
              "7        [get, scholarship]      ad"
            ]
          },
          "metadata": {
            "tags": []
          },
          "execution_count": 3
        }
      ]
    },
    {
      "cell_type": "code",
      "metadata": {
        "id": "75IDa7xZgZMm",
        "colab_type": "code",
        "colab": {
          "base_uri": "https://localhost:8080/",
          "height": 35
        },
        "outputId": "f8a2ca5c-b389-48cb-a879-40350c7c7941"
      },
      "source": [
        "mnb = MultinomialNB(data = df, input_tokens = \"get lottery\")\n",
        "mnb.percent(), mnb.result()"
      ],
      "execution_count": 4,
      "outputs": [
        {
          "output_type": "execute_result",
          "data": {
            "text/plain": [
              "(array([0.26632428, 0.04585473, 0.68782098]), 'spam')"
            ]
          },
          "metadata": {
            "tags": []
          },
          "execution_count": 4
        }
      ]
    }
  ]
}