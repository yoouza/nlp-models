{
  "nbformat": 4,
  "nbformat_minor": 0,
  "metadata": {
    "colab": {
      "name": "LSA.ipynb",
      "provenance": [],
      "collapsed_sections": [],
      "authorship_tag": "ABX9TyPLm8bIecNwnIi60V57XGBz",
      "include_colab_link": true
    },
    "kernelspec": {
      "name": "python3",
      "display_name": "Python 3"
    }
  },
  "cells": [
    {
      "cell_type": "markdown",
      "metadata": {
        "id": "view-in-github",
        "colab_type": "text"
      },
      "source": [
        "<a href=\"https://colab.research.google.com/github/2020-nlp-c/nlp-statisticsmodel/blob/master/bogyung/LSA.ipynb\" target=\"_parent\"><img src=\"https://colab.research.google.com/assets/colab-badge.svg\" alt=\"Open In Colab\"/></a>"
      ]
    },
    {
      "cell_type": "markdown",
      "metadata": {
        "id": "8vYsw3arZ7lS",
        "colab_type": "text"
      },
      "source": [
        "# LSA\n",
        "특이값 분해를 이용한 토픽 모델링"
      ]
    },
    {
      "cell_type": "code",
      "metadata": {
        "id": "EjOMz8YRH-fd",
        "colab_type": "code",
        "colab": {
          "base_uri": "https://localhost:8080/",
          "height": 298
        },
        "outputId": "4bee3f27-c1dc-4799-d83a-933ba9e1c109"
      },
      "source": [
        "from sklearn.utils.extmath import randomized_svd\n",
        "import numpy as np\n",
        "\n",
        "doc_ls = ['바나나 사과 포도 포도 짜장면', '사과 포도', '포도 바나나', '짜장면 짬뽕 탕수육', '볶음밥 탕수육',\n",
        "          '짜장면 짬뽕', '라면 스시', '스시 짜장면', '가츠동 스시 소바', '된장찌개 김치찌개 김치', \n",
        "          '김치 된장 짜장면', '비빔밥 김치']\n",
        "\n",
        "tokens = []\n",
        "\n",
        "for i, doc in enumerate(doc_ls):\n",
        "    doc_splitted = doc.split(' ')\n",
        "    doc_ls[i] = doc_splitted\n",
        "    tokens.extend(doc_splitted)\n",
        "tokens = np.unique(tokens)\n",
        "\n",
        "tdm = []\n",
        "for doc in doc_ls:\n",
        "    freq = []\n",
        "    for token in tokens:\n",
        "        freq.append(doc.count(token))\n",
        "    tdm.append(list(freq))\n",
        "\n",
        "N = 4\n",
        "U, s, VT = randomized_svd(np.array(tdm),\n",
        "                          n_components = N,\n",
        "                          n_iter = 10,\n",
        "                          random_state = None)\n",
        "\n",
        "VT_rank = np.argsort(-VT) # 순서를 거꾸로 정렬\n",
        "n_print = 3\n",
        "\n",
        "for i in range(N):\n",
        "    print('< Topic', i, '>')\n",
        "    for j in range(n_print):\n",
        "        index = VT_rank[i][j]\n",
        "        print(tokens[index], VT[i][index])"
      ],
      "execution_count": 1,
      "outputs": [
        {
          "output_type": "stream",
          "text": [
            "< Topic 0 >\n",
            "포도 0.6968625387988909\n",
            "짜장면 0.48563448882209037\n",
            "바나나 0.3484312693994456\n",
            "< Topic 1 >\n",
            "짜장면 0.584155883785206\n",
            "짬뽕 0.35555569681875904\n",
            "김치 0.3370014719129779\n",
            "< Topic 2 >\n",
            "김치 0.6109035277294114\n",
            "김치찌개 0.26439784919517767\n",
            "된장찌개 0.26439784919517767\n",
            "< Topic 3 >\n",
            "스시 0.5523884496346727\n",
            "김치 0.3713654174050577\n",
            "가츠동 0.27669846418415484\n"
          ],
          "name": "stdout"
        }
      ]
    },
    {
      "cell_type": "markdown",
      "metadata": {
        "id": "fervWvEWLbB3",
        "colab_type": "text"
      },
      "source": [
        "# Class"
      ]
    },
    {
      "cell_type": "code",
      "metadata": {
        "id": "Tn-ZYjMjFR9B",
        "colab_type": "code",
        "colab": {}
      },
      "source": [
        "from sklearn.utils.extmath import randomized_svd\n",
        "import numpy as np\n",
        "\n",
        "class LSA:\n",
        "    def __init__(self, docs, N_topic, N_print):\n",
        "        self.docs = docs\n",
        "        self.N_topic = N_topic\n",
        "        self.N_print = N_print\n",
        "\n",
        "    def TokensNDocs(self):\n",
        "        tokens = []\n",
        "        docs_new = self.docs.copy()\n",
        "        for i, doc in enumerate(docs_new):\n",
        "            doc_splitted = doc.split(' ')\n",
        "            docs_new[i] = doc_splitted\n",
        "            tokens.extend(doc_splitted)\n",
        "        tokens = np.unique(tokens)\n",
        "        return tokens, docs_new\n",
        "\n",
        "    def Result(self):\n",
        "        tdm = []\n",
        "        for doc in self.TokensNDocs()[1]:\n",
        "            freq = []\n",
        "            for token in self.TokensNDocs()[0]:\n",
        "                freq.append(doc.count(token))\n",
        "            tdm.append(list(freq))\n",
        "\n",
        "        U, s, VT = randomized_svd(np.array(tdm),\n",
        "                                n_components = self.N_topic,\n",
        "                                n_iter = 10,\n",
        "                                random_state = None)\n",
        "        VT_rank = np.argsort(-VT) # 순서 거꾸로 정렬\n",
        "\n",
        "        result = np.zeros((self.N_topic, self.N_print))\n",
        "        for i in range(self.N_topic):\n",
        "            print('< Topic', i, '>')\n",
        "            for j in range(self.N_print):\n",
        "                index = VT_rank[i][j]\n",
        "                print(self.TokensNDocs()[0][index], VT[i][index])"
      ],
      "execution_count": 2,
      "outputs": []
    },
    {
      "cell_type": "code",
      "metadata": {
        "id": "O17-rmrLIb9b",
        "colab_type": "code",
        "colab": {
          "base_uri": "https://localhost:8080/",
          "height": 298
        },
        "outputId": "67d11ef1-0eca-445d-8d1b-10cdb46df67b"
      },
      "source": [
        "doc_ex = ['바나나 사과 포도 포도 짜장면', '사과 포도', '포도 바나나', '짜장면 짬뽕 탕수육', '볶음밥 탕수육',\n",
        "          '짜장면 짬뽕', '라면 스시', '스시 짜장면', '가츠동 스시 소바', '된장찌개 김치찌개 김치', \n",
        "          '김치 된장 짜장면', '비빔밥 김치']\n",
        "\n",
        "lsa = LSA(docs = doc_ex, N_topic = 4, N_print = 3)\n",
        "lsa.Result()"
      ],
      "execution_count": 3,
      "outputs": [
        {
          "output_type": "stream",
          "text": [
            "< Topic 0 >\n",
            "포도 0.6968625387988913\n",
            "짜장면 0.4856344888220904\n",
            "사과 0.3484312693994457\n",
            "< Topic 1 >\n",
            "짜장면 0.5841558837852073\n",
            "짬뽕 0.3555556968187591\n",
            "김치 0.3370014719129784\n",
            "< Topic 2 >\n",
            "김치 0.6109035277294066\n",
            "김치찌개 0.2643978491951756\n",
            "된장찌개 0.26439784919517545\n",
            "< Topic 3 >\n",
            "스시 0.5523884496346664\n",
            "김치 0.37136541740506623\n",
            "가츠동 0.2766984641841519\n"
          ],
          "name": "stdout"
        }
      ]
    }
  ]
}