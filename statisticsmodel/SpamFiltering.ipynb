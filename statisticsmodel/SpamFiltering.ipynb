{
  "nbformat": 4,
  "nbformat_minor": 0,
  "metadata": {
    "colab": {
      "name": "SpamFiltering.ipynb",
      "provenance": [],
      "collapsed_sections": [],
      "authorship_tag": "ABX9TyO7YqxRrZr/1E1wM9OkVHMI",
      "include_colab_link": true
    },
    "kernelspec": {
      "name": "python3",
      "display_name": "Python 3"
    }
  },
  "cells": [
    {
      "cell_type": "markdown",
      "metadata": {
        "id": "view-in-github",
        "colab_type": "text"
      },
      "source": [
        "<a href=\"https://colab.research.google.com/github/2020-nlp-c/nlp-statisticsmodel/blob/master/bogyung/SpamFiltering.ipynb\" target=\"_parent\"><img src=\"https://colab.research.google.com/assets/colab-badge.svg\" alt=\"Open In Colab\"/></a>"
      ]
    },
    {
      "cell_type": "markdown",
      "metadata": {
        "id": "b95dAoSfvO1m",
        "colab_type": "text"
      },
      "source": [
        "# 스팸 필터링"
      ]
    },
    {
      "cell_type": "code",
      "metadata": {
        "id": "WIb1aWHijtmr",
        "colab_type": "code",
        "colab": {
          "base_uri": "https://localhost:8080/",
          "height": 235
        },
        "outputId": "1701a8d3-d97b-4448-f8f7-612ba9fd8f4f"
      },
      "source": [
        "import pandas as pd\n",
        "mail = [[\"me free lottery\", \"spam\"],\n",
        "        [\"free get free you\", \"spam\"],\n",
        "        [\"you free scholarship\", \"normal\"],\n",
        "        [\"free to contact me\", \"normal\"],\n",
        "        [\"you won award\", \"normal\"],\n",
        "        [\"you ticket lottery\", \"spam\"]]\n",
        "df = pd.DataFrame(mail, columns = [\"tokens\", \"label\"])\n",
        "df"
      ],
      "execution_count": 1,
      "outputs": [
        {
          "output_type": "execute_result",
          "data": {
            "text/html": [
              "<div>\n",
              "<style scoped>\n",
              "    .dataframe tbody tr th:only-of-type {\n",
              "        vertical-align: middle;\n",
              "    }\n",
              "\n",
              "    .dataframe tbody tr th {\n",
              "        vertical-align: top;\n",
              "    }\n",
              "\n",
              "    .dataframe thead th {\n",
              "        text-align: right;\n",
              "    }\n",
              "</style>\n",
              "<table border=\"1\" class=\"dataframe\">\n",
              "  <thead>\n",
              "    <tr style=\"text-align: right;\">\n",
              "      <th></th>\n",
              "      <th>tokens</th>\n",
              "      <th>label</th>\n",
              "    </tr>\n",
              "  </thead>\n",
              "  <tbody>\n",
              "    <tr>\n",
              "      <th>0</th>\n",
              "      <td>me free lottery</td>\n",
              "      <td>spam</td>\n",
              "    </tr>\n",
              "    <tr>\n",
              "      <th>1</th>\n",
              "      <td>free get free you</td>\n",
              "      <td>spam</td>\n",
              "    </tr>\n",
              "    <tr>\n",
              "      <th>2</th>\n",
              "      <td>you free scholarship</td>\n",
              "      <td>normal</td>\n",
              "    </tr>\n",
              "    <tr>\n",
              "      <th>3</th>\n",
              "      <td>free to contact me</td>\n",
              "      <td>normal</td>\n",
              "    </tr>\n",
              "    <tr>\n",
              "      <th>4</th>\n",
              "      <td>you won award</td>\n",
              "      <td>normal</td>\n",
              "    </tr>\n",
              "    <tr>\n",
              "      <th>5</th>\n",
              "      <td>you ticket lottery</td>\n",
              "      <td>spam</td>\n",
              "    </tr>\n",
              "  </tbody>\n",
              "</table>\n",
              "</div>"
            ],
            "text/plain": [
              "                 tokens   label\n",
              "0       me free lottery    spam\n",
              "1     free get free you    spam\n",
              "2  you free scholarship  normal\n",
              "3    free to contact me  normal\n",
              "4         you won award  normal\n",
              "5    you ticket lottery    spam"
            ]
          },
          "metadata": {
            "tags": []
          },
          "execution_count": 1
        }
      ]
    },
    {
      "cell_type": "code",
      "metadata": {
        "id": "2nP5EfN5kNra",
        "colab_type": "code",
        "colab": {
          "base_uri": "https://localhost:8080/",
          "height": 235
        },
        "outputId": "83f7dcc6-0e5b-4688-896b-94a2d85b8c0a"
      },
      "source": [
        "df.tokens = df.tokens.map(lambda x: x.split())\n",
        "df # input"
      ],
      "execution_count": 2,
      "outputs": [
        {
          "output_type": "execute_result",
          "data": {
            "text/html": [
              "<div>\n",
              "<style scoped>\n",
              "    .dataframe tbody tr th:only-of-type {\n",
              "        vertical-align: middle;\n",
              "    }\n",
              "\n",
              "    .dataframe tbody tr th {\n",
              "        vertical-align: top;\n",
              "    }\n",
              "\n",
              "    .dataframe thead th {\n",
              "        text-align: right;\n",
              "    }\n",
              "</style>\n",
              "<table border=\"1\" class=\"dataframe\">\n",
              "  <thead>\n",
              "    <tr style=\"text-align: right;\">\n",
              "      <th></th>\n",
              "      <th>tokens</th>\n",
              "      <th>label</th>\n",
              "    </tr>\n",
              "  </thead>\n",
              "  <tbody>\n",
              "    <tr>\n",
              "      <th>0</th>\n",
              "      <td>[me, free, lottery]</td>\n",
              "      <td>spam</td>\n",
              "    </tr>\n",
              "    <tr>\n",
              "      <th>1</th>\n",
              "      <td>[free, get, free, you]</td>\n",
              "      <td>spam</td>\n",
              "    </tr>\n",
              "    <tr>\n",
              "      <th>2</th>\n",
              "      <td>[you, free, scholarship]</td>\n",
              "      <td>normal</td>\n",
              "    </tr>\n",
              "    <tr>\n",
              "      <th>3</th>\n",
              "      <td>[free, to, contact, me]</td>\n",
              "      <td>normal</td>\n",
              "    </tr>\n",
              "    <tr>\n",
              "      <th>4</th>\n",
              "      <td>[you, won, award]</td>\n",
              "      <td>normal</td>\n",
              "    </tr>\n",
              "    <tr>\n",
              "      <th>5</th>\n",
              "      <td>[you, ticket, lottery]</td>\n",
              "      <td>spam</td>\n",
              "    </tr>\n",
              "  </tbody>\n",
              "</table>\n",
              "</div>"
            ],
            "text/plain": [
              "                     tokens   label\n",
              "0       [me, free, lottery]    spam\n",
              "1    [free, get, free, you]    spam\n",
              "2  [you, free, scholarship]  normal\n",
              "3   [free, to, contact, me]  normal\n",
              "4         [you, won, award]  normal\n",
              "5    [you, ticket, lottery]    spam"
            ]
          },
          "metadata": {
            "tags": []
          },
          "execution_count": 2
        }
      ]
    },
    {
      "cell_type": "code",
      "metadata": {
        "id": "k4Bob7iMlSlF",
        "colab_type": "code",
        "colab": {}
      },
      "source": [
        "import numpy as np\n",
        "\n",
        "tokens = []\n",
        "for token in df.tokens:\n",
        "    for i in range(len(token)):\n",
        "        tokens.append(token[i])\n",
        "tokens = np.unique(tokens)\n",
        "\n",
        "spam = {}\n",
        "normal = {}\n",
        "for token in tokens:\n",
        "    spam[token] = 0\n",
        "    normal[token] = 0"
      ],
      "execution_count": 3,
      "outputs": []
    },
    {
      "cell_type": "code",
      "metadata": {
        "id": "oKdgDjpFsYd1",
        "colab_type": "code",
        "colab": {
          "base_uri": "https://localhost:8080/",
          "height": 53
        },
        "outputId": "dfb7778f-c9c2-4a84-d23a-31f067d8989c"
      },
      "source": [
        "print(spam)\n",
        "print(normal)"
      ],
      "execution_count": 4,
      "outputs": [
        {
          "output_type": "stream",
          "text": [
            "{'award': 0, 'contact': 0, 'free': 0, 'get': 0, 'lottery': 0, 'me': 0, 'scholarship': 0, 'ticket': 0, 'to': 0, 'won': 0, 'you': 0}\n",
            "{'award': 0, 'contact': 0, 'free': 0, 'get': 0, 'lottery': 0, 'me': 0, 'scholarship': 0, 'ticket': 0, 'to': 0, 'won': 0, 'you': 0}\n"
          ],
          "name": "stdout"
        }
      ]
    },
    {
      "cell_type": "code",
      "metadata": {
        "id": "BmqaTfWGrZE1",
        "colab_type": "code",
        "colab": {}
      },
      "source": [
        "for i, token_list in enumerate(df.tokens):\n",
        "    for token in token_list:\n",
        "        if df.label[i] == \"spam\":\n",
        "            spam[token] += 1\n",
        "        elif df.label[i] == \"normal\":\n",
        "            normal[token] += 1"
      ],
      "execution_count": 5,
      "outputs": []
    },
    {
      "cell_type": "code",
      "metadata": {
        "id": "_Y9VyP-buMzw",
        "colab_type": "code",
        "colab": {
          "base_uri": "https://localhost:8080/",
          "height": 53
        },
        "outputId": "985c97a1-d9fc-4fd0-d875-8f852b1b8d43"
      },
      "source": [
        "print(spam)\n",
        "print(normal)"
      ],
      "execution_count": 6,
      "outputs": [
        {
          "output_type": "stream",
          "text": [
            "{'award': 0, 'contact': 0, 'free': 3, 'get': 1, 'lottery': 2, 'me': 1, 'scholarship': 0, 'ticket': 1, 'to': 0, 'won': 0, 'you': 2}\n",
            "{'award': 1, 'contact': 1, 'free': 2, 'get': 0, 'lottery': 0, 'me': 1, 'scholarship': 1, 'ticket': 0, 'to': 1, 'won': 1, 'you': 2}\n"
          ],
          "name": "stdout"
        }
      ]
    },
    {
      "cell_type": "code",
      "metadata": {
        "id": "wXfjlOzHue_Q",
        "colab_type": "code",
        "colab": {
          "base_uri": "https://localhost:8080/",
          "height": 390
        },
        "outputId": "2bad6124-ae0c-4cb8-e3ae-40b44cfdf4cf"
      },
      "source": [
        "df_filter = pd.DataFrame({\"spam\":spam, \"normal\":normal})\n",
        "df_filter"
      ],
      "execution_count": 7,
      "outputs": [
        {
          "output_type": "execute_result",
          "data": {
            "text/html": [
              "<div>\n",
              "<style scoped>\n",
              "    .dataframe tbody tr th:only-of-type {\n",
              "        vertical-align: middle;\n",
              "    }\n",
              "\n",
              "    .dataframe tbody tr th {\n",
              "        vertical-align: top;\n",
              "    }\n",
              "\n",
              "    .dataframe thead th {\n",
              "        text-align: right;\n",
              "    }\n",
              "</style>\n",
              "<table border=\"1\" class=\"dataframe\">\n",
              "  <thead>\n",
              "    <tr style=\"text-align: right;\">\n",
              "      <th></th>\n",
              "      <th>spam</th>\n",
              "      <th>normal</th>\n",
              "    </tr>\n",
              "  </thead>\n",
              "  <tbody>\n",
              "    <tr>\n",
              "      <th>award</th>\n",
              "      <td>0</td>\n",
              "      <td>1</td>\n",
              "    </tr>\n",
              "    <tr>\n",
              "      <th>contact</th>\n",
              "      <td>0</td>\n",
              "      <td>1</td>\n",
              "    </tr>\n",
              "    <tr>\n",
              "      <th>free</th>\n",
              "      <td>3</td>\n",
              "      <td>2</td>\n",
              "    </tr>\n",
              "    <tr>\n",
              "      <th>get</th>\n",
              "      <td>1</td>\n",
              "      <td>0</td>\n",
              "    </tr>\n",
              "    <tr>\n",
              "      <th>lottery</th>\n",
              "      <td>2</td>\n",
              "      <td>0</td>\n",
              "    </tr>\n",
              "    <tr>\n",
              "      <th>me</th>\n",
              "      <td>1</td>\n",
              "      <td>1</td>\n",
              "    </tr>\n",
              "    <tr>\n",
              "      <th>scholarship</th>\n",
              "      <td>0</td>\n",
              "      <td>1</td>\n",
              "    </tr>\n",
              "    <tr>\n",
              "      <th>ticket</th>\n",
              "      <td>1</td>\n",
              "      <td>0</td>\n",
              "    </tr>\n",
              "    <tr>\n",
              "      <th>to</th>\n",
              "      <td>0</td>\n",
              "      <td>1</td>\n",
              "    </tr>\n",
              "    <tr>\n",
              "      <th>won</th>\n",
              "      <td>0</td>\n",
              "      <td>1</td>\n",
              "    </tr>\n",
              "    <tr>\n",
              "      <th>you</th>\n",
              "      <td>2</td>\n",
              "      <td>2</td>\n",
              "    </tr>\n",
              "  </tbody>\n",
              "</table>\n",
              "</div>"
            ],
            "text/plain": [
              "             spam  normal\n",
              "award           0       1\n",
              "contact         0       1\n",
              "free            3       2\n",
              "get             1       0\n",
              "lottery         2       0\n",
              "me              1       1\n",
              "scholarship     0       1\n",
              "ticket          1       0\n",
              "to              0       1\n",
              "won             0       1\n",
              "you             2       2"
            ]
          },
          "metadata": {
            "tags": []
          },
          "execution_count": 7
        }
      ]
    },
    {
      "cell_type": "code",
      "metadata": {
        "id": "lCew4cCzvKr3",
        "colab_type": "code",
        "colab": {
          "base_uri": "https://localhost:8080/",
          "height": 390
        },
        "outputId": "6f72bd41-ee29-4399-93ac-90d76d6367e8"
      },
      "source": [
        "k = 0.5\n",
        "n_spam = np.sum(df_filter.spam)\n",
        "n_normal = np.sum(df_filter.normal)\n",
        "\n",
        "df_filter[\"P(w|spam)\"] = (k+df_filter.spam)/(2*k+n_spam)\n",
        "df_filter[\"P(w|normal)\"] = (k+df_filter.normal)/(2*k+n_normal)\n",
        "df_filter[\"Log(P(w|spam))\"] = np.log(df_filter[\"P(w|spam)\"])\n",
        "df_filter[\"Log(P(w|normal))\"] = np.log(df_filter[\"P(w|normal)\"])\n",
        "\n",
        "df_filter"
      ],
      "execution_count": 8,
      "outputs": [
        {
          "output_type": "execute_result",
          "data": {
            "text/html": [
              "<div>\n",
              "<style scoped>\n",
              "    .dataframe tbody tr th:only-of-type {\n",
              "        vertical-align: middle;\n",
              "    }\n",
              "\n",
              "    .dataframe tbody tr th {\n",
              "        vertical-align: top;\n",
              "    }\n",
              "\n",
              "    .dataframe thead th {\n",
              "        text-align: right;\n",
              "    }\n",
              "</style>\n",
              "<table border=\"1\" class=\"dataframe\">\n",
              "  <thead>\n",
              "    <tr style=\"text-align: right;\">\n",
              "      <th></th>\n",
              "      <th>spam</th>\n",
              "      <th>normal</th>\n",
              "      <th>P(w|spam)</th>\n",
              "      <th>P(w|normal)</th>\n",
              "      <th>Log(P(w|spam))</th>\n",
              "      <th>Log(P(w|normal))</th>\n",
              "    </tr>\n",
              "  </thead>\n",
              "  <tbody>\n",
              "    <tr>\n",
              "      <th>award</th>\n",
              "      <td>0</td>\n",
              "      <td>1</td>\n",
              "      <td>0.045455</td>\n",
              "      <td>0.136364</td>\n",
              "      <td>-3.091042</td>\n",
              "      <td>-1.992430</td>\n",
              "    </tr>\n",
              "    <tr>\n",
              "      <th>contact</th>\n",
              "      <td>0</td>\n",
              "      <td>1</td>\n",
              "      <td>0.045455</td>\n",
              "      <td>0.136364</td>\n",
              "      <td>-3.091042</td>\n",
              "      <td>-1.992430</td>\n",
              "    </tr>\n",
              "    <tr>\n",
              "      <th>free</th>\n",
              "      <td>3</td>\n",
              "      <td>2</td>\n",
              "      <td>0.318182</td>\n",
              "      <td>0.227273</td>\n",
              "      <td>-1.145132</td>\n",
              "      <td>-1.481605</td>\n",
              "    </tr>\n",
              "    <tr>\n",
              "      <th>get</th>\n",
              "      <td>1</td>\n",
              "      <td>0</td>\n",
              "      <td>0.136364</td>\n",
              "      <td>0.045455</td>\n",
              "      <td>-1.992430</td>\n",
              "      <td>-3.091042</td>\n",
              "    </tr>\n",
              "    <tr>\n",
              "      <th>lottery</th>\n",
              "      <td>2</td>\n",
              "      <td>0</td>\n",
              "      <td>0.227273</td>\n",
              "      <td>0.045455</td>\n",
              "      <td>-1.481605</td>\n",
              "      <td>-3.091042</td>\n",
              "    </tr>\n",
              "    <tr>\n",
              "      <th>me</th>\n",
              "      <td>1</td>\n",
              "      <td>1</td>\n",
              "      <td>0.136364</td>\n",
              "      <td>0.136364</td>\n",
              "      <td>-1.992430</td>\n",
              "      <td>-1.992430</td>\n",
              "    </tr>\n",
              "    <tr>\n",
              "      <th>scholarship</th>\n",
              "      <td>0</td>\n",
              "      <td>1</td>\n",
              "      <td>0.045455</td>\n",
              "      <td>0.136364</td>\n",
              "      <td>-3.091042</td>\n",
              "      <td>-1.992430</td>\n",
              "    </tr>\n",
              "    <tr>\n",
              "      <th>ticket</th>\n",
              "      <td>1</td>\n",
              "      <td>0</td>\n",
              "      <td>0.136364</td>\n",
              "      <td>0.045455</td>\n",
              "      <td>-1.992430</td>\n",
              "      <td>-3.091042</td>\n",
              "    </tr>\n",
              "    <tr>\n",
              "      <th>to</th>\n",
              "      <td>0</td>\n",
              "      <td>1</td>\n",
              "      <td>0.045455</td>\n",
              "      <td>0.136364</td>\n",
              "      <td>-3.091042</td>\n",
              "      <td>-1.992430</td>\n",
              "    </tr>\n",
              "    <tr>\n",
              "      <th>won</th>\n",
              "      <td>0</td>\n",
              "      <td>1</td>\n",
              "      <td>0.045455</td>\n",
              "      <td>0.136364</td>\n",
              "      <td>-3.091042</td>\n",
              "      <td>-1.992430</td>\n",
              "    </tr>\n",
              "    <tr>\n",
              "      <th>you</th>\n",
              "      <td>2</td>\n",
              "      <td>2</td>\n",
              "      <td>0.227273</td>\n",
              "      <td>0.227273</td>\n",
              "      <td>-1.481605</td>\n",
              "      <td>-1.481605</td>\n",
              "    </tr>\n",
              "  </tbody>\n",
              "</table>\n",
              "</div>"
            ],
            "text/plain": [
              "             spam  normal  ...  Log(P(w|spam))  Log(P(w|normal))\n",
              "award           0       1  ...       -3.091042         -1.992430\n",
              "contact         0       1  ...       -3.091042         -1.992430\n",
              "free            3       2  ...       -1.145132         -1.481605\n",
              "get             1       0  ...       -1.992430         -3.091042\n",
              "lottery         2       0  ...       -1.481605         -3.091042\n",
              "me              1       1  ...       -1.992430         -1.992430\n",
              "scholarship     0       1  ...       -3.091042         -1.992430\n",
              "ticket          1       0  ...       -1.992430         -3.091042\n",
              "to              0       1  ...       -3.091042         -1.992430\n",
              "won             0       1  ...       -3.091042         -1.992430\n",
              "you             2       2  ...       -1.481605         -1.481605\n",
              "\n",
              "[11 rows x 6 columns]"
            ]
          },
          "metadata": {
            "tags": []
          },
          "execution_count": 8
        }
      ]
    },
    {
      "cell_type": "code",
      "metadata": {
        "id": "9FrqCz2pDrNS",
        "colab_type": "code",
        "colab": {
          "base_uri": "https://localhost:8080/",
          "height": 35
        },
        "outputId": "bf4dcb9f-21a1-42e8-854e-6d9dcb3232da"
      },
      "source": [
        "input_tokens = \"free lottery\".split()\n",
        "P_spam = np.log( n_spam/(n_spam+n_normal) )\n",
        "P_normal = np.log( n_normal/(n_spam+n_normal) )\n",
        "\n",
        "for token in input_tokens:\n",
        "    P_spam += float( df_filter[df_filter.index == token][\"Log(P(w|spam))\"] )\n",
        "    P_normal += float( df_filter[df_filter.index == token][\"Log(P(w|normal))\"] )\n",
        "\n",
        "P_spam_fin = np.exp(P_spam) / ( np.exp(P_spam) + np.exp(P_normal) )\n",
        "P_normal_fin = np.exp(P_normal) / ( np.exp(P_spam) + np.exp(P_normal) )\n",
        "print(round(P_spam_fin*100, 2),\"%\", round(P_normal_fin*100, 2),\"%\")"
      ],
      "execution_count": 9,
      "outputs": [
        {
          "output_type": "stream",
          "text": [
            "87.5 % 12.5 %\n"
          ],
          "name": "stdout"
        }
      ]
    },
    {
      "cell_type": "markdown",
      "metadata": {
        "id": "P2FkY1xbGNK2",
        "colab_type": "text"
      },
      "source": [
        "# SpamFiltering 클래스"
      ]
    },
    {
      "cell_type": "code",
      "metadata": {
        "id": "_37AxN8nGOZQ",
        "colab_type": "code",
        "colab": {}
      },
      "source": [
        "import pandas as pd\n",
        "import numpy as np\n",
        "\n",
        "class SpamFiltering:\n",
        "    def __init__(self, data, input_tokens, k = 0.5):\n",
        "        self.data = data\n",
        "        self.input_tokens = input_tokens\n",
        "        self.k = k\n",
        "    \n",
        "    def percent_table(self):\n",
        "        tokens = []\n",
        "        for token in self.data.tokens:\n",
        "            for i in range(len(token)):\n",
        "                tokens.append(token[i])\n",
        "        tokens = np.unique(tokens)\n",
        "        \n",
        "        spam = {}\n",
        "        normal = {}\n",
        "        for token in tokens:\n",
        "            spam[token] = 0\n",
        "            normal[token] = 0       \n",
        "\n",
        "        for i, token_list in enumerate(self.data.tokens):\n",
        "            for token in token_list:\n",
        "                if self.data.label[i] == \"spam\":\n",
        "                    spam[token] += 1\n",
        "                elif self.data.label[i] == \"normal\":\n",
        "                    normal[token] += 1\n",
        "\n",
        "        df_filter = pd.DataFrame({\"spam\":spam, \"normal\":normal})\n",
        "        n_spam = np.sum(df_filter.spam)\n",
        "        n_normal = np.sum(df_filter.normal)\n",
        "        df_filter[\"P(w|spam)\"] = (self.k+df_filter.spam)/(2*self.k+n_spam)\n",
        "        df_filter[\"P(w|normal)\"] = (self.k+df_filter.normal)/(2*self.k+n_normal)\n",
        "        df_filter[\"Log(P(w|spam))\"] = np.log(df_filter[\"P(w|spam)\"])\n",
        "        df_filter[\"Log(P(w|normal))\"] = np.log(df_filter[\"P(w|normal)\"])\n",
        "        return df_filter\n",
        "    \n",
        "    def p_spam(self):\n",
        "        table = self.percent_table()\n",
        "        P_spam = np.log( n_spam/(n_spam+n_normal) )\n",
        "        P_normal = np.log( n_normal/(n_spam+n_normal) )\n",
        "        \n",
        "        for token in self.input_tokens.split():\n",
        "            P_spam += float( table[table.index == token][\"Log(P(w|spam))\"] )\n",
        "            P_normal += float( table[table.index == token][\"Log(P(w|normal))\"] )\n",
        "        \n",
        "        P_spam_fin = np.exp(P_spam) / ( np.exp(P_spam) + np.exp(P_normal) )\n",
        "        return round(P_spam_fin, 2)\n",
        "    \n",
        "    def p_normal(self):\n",
        "        return round(1-self.p_spam(), 2)\n",
        "        \n",
        "    def result(self):\n",
        "        if self.p_spam() >= self.p_normal():\n",
        "            return \"spam\"\n",
        "        else:\n",
        "            return \"normal\""
      ],
      "execution_count": 10,
      "outputs": []
    },
    {
      "cell_type": "code",
      "metadata": {
        "id": "7V33cq3tN5I1",
        "colab_type": "code",
        "colab": {
          "base_uri": "https://localhost:8080/",
          "height": 390
        },
        "outputId": "09d977d4-9cd8-469a-b261-ebeaf105381a"
      },
      "source": [
        "sf = SpamFiltering(data = df, input_tokens = \"get lottery\")\n",
        "sf.percent_table()"
      ],
      "execution_count": 17,
      "outputs": [
        {
          "output_type": "execute_result",
          "data": {
            "text/html": [
              "<div>\n",
              "<style scoped>\n",
              "    .dataframe tbody tr th:only-of-type {\n",
              "        vertical-align: middle;\n",
              "    }\n",
              "\n",
              "    .dataframe tbody tr th {\n",
              "        vertical-align: top;\n",
              "    }\n",
              "\n",
              "    .dataframe thead th {\n",
              "        text-align: right;\n",
              "    }\n",
              "</style>\n",
              "<table border=\"1\" class=\"dataframe\">\n",
              "  <thead>\n",
              "    <tr style=\"text-align: right;\">\n",
              "      <th></th>\n",
              "      <th>spam</th>\n",
              "      <th>normal</th>\n",
              "      <th>P(w|spam)</th>\n",
              "      <th>P(w|normal)</th>\n",
              "      <th>Log(P(w|spam))</th>\n",
              "      <th>Log(P(w|normal))</th>\n",
              "    </tr>\n",
              "  </thead>\n",
              "  <tbody>\n",
              "    <tr>\n",
              "      <th>award</th>\n",
              "      <td>0</td>\n",
              "      <td>1</td>\n",
              "      <td>0.045455</td>\n",
              "      <td>0.136364</td>\n",
              "      <td>-3.091042</td>\n",
              "      <td>-1.992430</td>\n",
              "    </tr>\n",
              "    <tr>\n",
              "      <th>contact</th>\n",
              "      <td>0</td>\n",
              "      <td>1</td>\n",
              "      <td>0.045455</td>\n",
              "      <td>0.136364</td>\n",
              "      <td>-3.091042</td>\n",
              "      <td>-1.992430</td>\n",
              "    </tr>\n",
              "    <tr>\n",
              "      <th>free</th>\n",
              "      <td>3</td>\n",
              "      <td>2</td>\n",
              "      <td>0.318182</td>\n",
              "      <td>0.227273</td>\n",
              "      <td>-1.145132</td>\n",
              "      <td>-1.481605</td>\n",
              "    </tr>\n",
              "    <tr>\n",
              "      <th>get</th>\n",
              "      <td>1</td>\n",
              "      <td>0</td>\n",
              "      <td>0.136364</td>\n",
              "      <td>0.045455</td>\n",
              "      <td>-1.992430</td>\n",
              "      <td>-3.091042</td>\n",
              "    </tr>\n",
              "    <tr>\n",
              "      <th>lottery</th>\n",
              "      <td>2</td>\n",
              "      <td>0</td>\n",
              "      <td>0.227273</td>\n",
              "      <td>0.045455</td>\n",
              "      <td>-1.481605</td>\n",
              "      <td>-3.091042</td>\n",
              "    </tr>\n",
              "    <tr>\n",
              "      <th>me</th>\n",
              "      <td>1</td>\n",
              "      <td>1</td>\n",
              "      <td>0.136364</td>\n",
              "      <td>0.136364</td>\n",
              "      <td>-1.992430</td>\n",
              "      <td>-1.992430</td>\n",
              "    </tr>\n",
              "    <tr>\n",
              "      <th>scholarship</th>\n",
              "      <td>0</td>\n",
              "      <td>1</td>\n",
              "      <td>0.045455</td>\n",
              "      <td>0.136364</td>\n",
              "      <td>-3.091042</td>\n",
              "      <td>-1.992430</td>\n",
              "    </tr>\n",
              "    <tr>\n",
              "      <th>ticket</th>\n",
              "      <td>1</td>\n",
              "      <td>0</td>\n",
              "      <td>0.136364</td>\n",
              "      <td>0.045455</td>\n",
              "      <td>-1.992430</td>\n",
              "      <td>-3.091042</td>\n",
              "    </tr>\n",
              "    <tr>\n",
              "      <th>to</th>\n",
              "      <td>0</td>\n",
              "      <td>1</td>\n",
              "      <td>0.045455</td>\n",
              "      <td>0.136364</td>\n",
              "      <td>-3.091042</td>\n",
              "      <td>-1.992430</td>\n",
              "    </tr>\n",
              "    <tr>\n",
              "      <th>won</th>\n",
              "      <td>0</td>\n",
              "      <td>1</td>\n",
              "      <td>0.045455</td>\n",
              "      <td>0.136364</td>\n",
              "      <td>-3.091042</td>\n",
              "      <td>-1.992430</td>\n",
              "    </tr>\n",
              "    <tr>\n",
              "      <th>you</th>\n",
              "      <td>2</td>\n",
              "      <td>2</td>\n",
              "      <td>0.227273</td>\n",
              "      <td>0.227273</td>\n",
              "      <td>-1.481605</td>\n",
              "      <td>-1.481605</td>\n",
              "    </tr>\n",
              "  </tbody>\n",
              "</table>\n",
              "</div>"
            ],
            "text/plain": [
              "             spam  normal  ...  Log(P(w|spam))  Log(P(w|normal))\n",
              "award           0       1  ...       -3.091042         -1.992430\n",
              "contact         0       1  ...       -3.091042         -1.992430\n",
              "free            3       2  ...       -1.145132         -1.481605\n",
              "get             1       0  ...       -1.992430         -3.091042\n",
              "lottery         2       0  ...       -1.481605         -3.091042\n",
              "me              1       1  ...       -1.992430         -1.992430\n",
              "scholarship     0       1  ...       -3.091042         -1.992430\n",
              "ticket          1       0  ...       -1.992430         -3.091042\n",
              "to              0       1  ...       -3.091042         -1.992430\n",
              "won             0       1  ...       -3.091042         -1.992430\n",
              "you             2       2  ...       -1.481605         -1.481605\n",
              "\n",
              "[11 rows x 6 columns]"
            ]
          },
          "metadata": {
            "tags": []
          },
          "execution_count": 17
        }
      ]
    },
    {
      "cell_type": "code",
      "metadata": {
        "id": "iP72oYzdT1LH",
        "colab_type": "code",
        "colab": {
          "base_uri": "https://localhost:8080/",
          "height": 35
        },
        "outputId": "5e28356b-7840-482e-8545-a98d34c32ab5"
      },
      "source": [
        "sf.p_spam(), sf.p_normal(), sf.result()"
      ],
      "execution_count": 19,
      "outputs": [
        {
          "output_type": "execute_result",
          "data": {
            "text/plain": [
              "(0.94, 0.06, 'spam')"
            ]
          },
          "metadata": {
            "tags": []
          },
          "execution_count": 19
        }
      ]
    },
    {
      "cell_type": "code",
      "metadata": {
        "id": "WWuUtkbpOYft",
        "colab_type": "code",
        "colab": {
          "base_uri": "https://localhost:8080/",
          "height": 35
        },
        "outputId": "8d6431e1-297f-475b-ff81-172e7695fcef"
      },
      "source": [
        "sf = SpamFiltering(data = df, input_tokens = \"scholarship award\")\n",
        "sf.p_spam(), sf.p_normal(), sf.result()"
      ],
      "execution_count": 20,
      "outputs": [
        {
          "output_type": "execute_result",
          "data": {
            "text/plain": [
              "(0.1, 0.9, 'normal')"
            ]
          },
          "metadata": {
            "tags": []
          },
          "execution_count": 20
        }
      ]
    },
    {
      "cell_type": "markdown",
      "metadata": {
        "id": "hwnNC2MWUQWc",
        "colab_type": "text"
      },
      "source": [
        "## SpamFilteringFaster 클래스\n",
        "- pandas 테이블 필요 없을 때"
      ]
    },
    {
      "cell_type": "code",
      "metadata": {
        "id": "hTmLNE6nUP1A",
        "colab_type": "code",
        "colab": {}
      },
      "source": [
        "import pandas as pd\n",
        "import numpy as np\n",
        "\n",
        "class SpamFilteringFaster:\n",
        "    def __init__(self, data, input_tokens, k = 0.5):\n",
        "        self.data = data\n",
        "        self.input_tokens = input_tokens\n",
        "        self.k = k\n",
        "    \n",
        "    def percent(self):\n",
        "        tokens = []\n",
        "        for token in self.data.tokens:\n",
        "            for i in range(len(token)):\n",
        "                tokens.append(token[i])\n",
        "        tokens = np.unique(tokens)\n",
        "        \n",
        "        spam = {}\n",
        "        normal = {}\n",
        "        for token in tokens:\n",
        "            spam[token] = 0\n",
        "            normal[token] = 0       \n",
        "\n",
        "        for i, token_list in enumerate(self.data.tokens):\n",
        "            for token in token_list:\n",
        "                if self.data.label[i] == \"spam\":\n",
        "                    spam[token] += 1\n",
        "                elif self.data.label[i] == \"normal\":\n",
        "                    normal[token] += 1\n",
        "\n",
        "        n_spam = sum(spam.values())\n",
        "        n_normal = sum(normal.values())\n",
        "\n",
        "        log_spam = {}\n",
        "        log_normal = {}\n",
        "\n",
        "        for i, (s, n) in enumerate(zip(spam.values(), normal.values())):\n",
        "            log_spam[tokens[i]] = np.log((k + s)/(2*k + n_spam))\n",
        "            log_normal[tokens[i]] = np.log((k + n)/(2*k + n_normal))\n",
        "\n",
        "        P_spam = np.log( n_spam/(n_spam+n_normal) )\n",
        "        P_normal = np.log( n_normal/(n_spam+n_normal) )\n",
        "\n",
        "        for token in self.input_tokens.split():\n",
        "            P_spam += log_spam[token]\n",
        "            P_normal += log_normal[token]\n",
        "\n",
        "        P_spam_fin = np.exp(P_spam) / ( np.exp(P_spam) + np.exp(P_normal) )\n",
        "        P_spam_fin = round(P_spam_fin, 2)\n",
        "        return P_spam_fin, round(1 - P_spam_fin, 2)\n",
        "    \n",
        "    def result(self):\n",
        "        if self.percent()[0] >= self.percent()[1]:\n",
        "            return \"spam\"\n",
        "        else:\n",
        "            return \"normal\""
      ],
      "execution_count": 70,
      "outputs": []
    },
    {
      "cell_type": "code",
      "metadata": {
        "id": "M37inJWahDB-",
        "colab_type": "code",
        "colab": {
          "base_uri": "https://localhost:8080/",
          "height": 35
        },
        "outputId": "8c39136b-5c30-4045-cfc7-1b1800068fd5"
      },
      "source": [
        "sff = SpamFilteringFaster(data = df, input_tokens = \"get lottery\")\n",
        "sff.percent(), sff.result()"
      ],
      "execution_count": 82,
      "outputs": [
        {
          "output_type": "execute_result",
          "data": {
            "text/plain": [
              "((0.94, 0.06), 'spam')"
            ]
          },
          "metadata": {
            "tags": []
          },
          "execution_count": 82
        }
      ]
    },
    {
      "cell_type": "markdown",
      "metadata": {
        "id": "_WG0zpUWieVP",
        "colab_type": "text"
      },
      "source": [
        "## 시간 비교"
      ]
    },
    {
      "cell_type": "code",
      "metadata": {
        "id": "Zlmb3jgsh-tx",
        "colab_type": "code",
        "colab": {
          "base_uri": "https://localhost:8080/",
          "height": 53
        },
        "outputId": "332c181f-fd68-4da1-8aa8-9d6c8d3bf4b7"
      },
      "source": [
        "import time\n",
        "\n",
        "# Class SpamFiltering\n",
        "start = time.time()\n",
        "sf = SpamFiltering(data = df, input_tokens = \"get lottery\")\n",
        "sf.result()\n",
        "print(time.time() - start)\n",
        "\n",
        "# Class SpamFilteringFaster\n",
        "start = time.time()\n",
        "sff = SpamFilteringFaster(data = df, input_tokens = \"get lottery\")\n",
        "sff.result()\n",
        "print(time.time() - start)"
      ],
      "execution_count": 81,
      "outputs": [
        {
          "output_type": "stream",
          "text": [
            "0.02684497833251953\n",
            "0.0017733573913574219\n"
          ],
          "name": "stdout"
        }
      ]
    }
  ]
}