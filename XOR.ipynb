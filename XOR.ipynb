{
  "nbformat": 4,
  "nbformat_minor": 0,
  "metadata": {
    "colab": {
      "name": "XOR.ipynb",
      "provenance": [],
      "authorship_tag": "ABX9TyPbF5v0zBI9WU1pXvjhGADz",
      "include_colab_link": true
    },
    "kernelspec": {
      "name": "python3",
      "display_name": "Python 3"
    }
  },
  "cells": [
    {
      "cell_type": "markdown",
      "metadata": {
        "id": "view-in-github",
        "colab_type": "text"
      },
      "source": [
        "<a href=\"https://colab.research.google.com/github/yoouza/nlp-models/blob/master/XOR.ipynb\" target=\"_parent\"><img src=\"https://colab.research.google.com/assets/colab-badge.svg\" alt=\"Open In Colab\"/></a>"
      ]
    },
    {
      "cell_type": "code",
      "metadata": {
        "id": "I1j6j7uxMFgW",
        "colab_type": "code",
        "colab": {}
      },
      "source": [
        "import numpy as np\n",
        "from random import random"
      ],
      "execution_count": 1,
      "outputs": []
    },
    {
      "cell_type": "code",
      "metadata": {
        "id": "WZia1EbWMC7i",
        "colab_type": "code",
        "colab": {}
      },
      "source": [
        "X = np.array([[0,0,1,1], [0,1,0,1]])\n",
        "Y = np.array([0,1,1,0])"
      ],
      "execution_count": 2,
      "outputs": []
    },
    {
      "cell_type": "code",
      "metadata": {
        "id": "CHd5PK1KMO0z",
        "colab_type": "code",
        "colab": {}
      },
      "source": [
        "# 1) 파라미터 초기화\n",
        "\n",
        "N_hidden = 2\n",
        "w_input = np.zeros(((len(X)+1), N_hidden))\n",
        "w_hidden = np.zeros((N_hidden, 1))\n",
        "\n",
        "for i in range(len(X)+1):\n",
        "    for j in range(N_hidden):\n",
        "        w_input[i][j] = random()\n",
        "\n",
        "for i in range(N_hidden):\n",
        "    w_hidden[i] = random()\n",
        "w_b = random()"
      ],
      "execution_count": 3,
      "outputs": []
    },
    {
      "cell_type": "code",
      "metadata": {
        "id": "fGBiDk7gNId3",
        "colab_type": "code",
        "colab": {}
      },
      "source": [
        "# 2) feed forward + sigmoid\n",
        "\n",
        "b = np.ones((len(X[0]),1))\n",
        "X_b = np.concatenate((X.T, b), axis=1)\n",
        "h = np.dot(X_b, w_input)\n",
        "\n",
        "def sigmoid(x):\n",
        "    return 1 / (1 + np.exp(-x))\n",
        "\n",
        "h = sigmoid(h)\n",
        "b2 = b # w_hidden에 해당하는 bias\n",
        "\n",
        "Y_hat = np.dot(h, w_hidden) + b2 * w_b\n",
        "Y_hat = sigmoid(Y_hat)"
      ],
      "execution_count": 4,
      "outputs": []
    },
    {
      "cell_type": "code",
      "metadata": {
        "id": "wL55-OzxY9D6",
        "colab_type": "code",
        "colab": {}
      },
      "source": [
        "# 3) Loss\n",
        "\n",
        "N = len(Y_hat)\n",
        "loss = 0\n",
        "for i in range(N):\n",
        "    loss += Y[i]*np.log(Y_hat[i]) + (1-Y[i])*np.log(1-Y_hat[i])\n",
        "loss = (-1/N)*loss"
      ],
      "execution_count": 5,
      "outputs": []
    },
    {
      "cell_type": "code",
      "metadata": {
        "id": "u3kn_dG4Y9GC",
        "colab_type": "code",
        "colab": {}
      },
      "source": [
        "# 4) Gradient\n",
        "\n",
        "alpha = 0.01\n",
        "\n",
        "# w2\n",
        "Y_ = Y.reshape(Y.shape[0], 1)\n",
        "gradient_hidden = np.dot(h.T, (Y_hat-Y_))\n",
        "\n",
        "# w1\n",
        "gradient_h = np.dot(Y_hat-Y_, w_hidden.T)\n",
        "gradient_input = np.dot(X_b.T, np.multiply(gradient_h, h, 1-h))\n",
        "\n",
        "# update by back-propagation\n",
        "w_hidden = w_hidden - alpha * gradient_hidden\n",
        "w_input = w_input - alpha * gradient_input"
      ],
      "execution_count": 6,
      "outputs": []
    },
    {
      "cell_type": "markdown",
      "metadata": {
        "id": "z9O4kjXMY9KS",
        "colab_type": "text"
      },
      "source": [
        "# weight update 반복"
      ]
    },
    {
      "cell_type": "code",
      "metadata": {
        "id": "J9A3ESKpQMSO",
        "colab_type": "code",
        "colab": {}
      },
      "source": [
        "for iter in range(100000):\n",
        "    h = np.dot(X_b, w_input)\n",
        "    h = sigmoid(h)\n",
        "    b2 = b2 - alpha * (Y_hat-Y_)\n",
        "    Y_hat = np.dot(h, w_hidden) + b2 * w_b\n",
        "    Y_hat = sigmoid(Y_hat)\n",
        "    \n",
        "    loss = 0\n",
        "    for i in range(N):\n",
        "        loss += Y[i]*np.log(Y_hat[i]) + (1-Y[i])*np.log(1-Y_hat[i])\n",
        "    loss = (-1/N)*loss\n",
        "\n",
        "    gradient_hidden = np.dot(h.T, (Y_hat-Y_))\n",
        "\n",
        "    gradient_h = np.dot(Y_hat-Y_, w_hidden.T)\n",
        "    gradient_input = np.dot(X_b.T, np.multiply(gradient_h, h, 1-h))\n",
        "\n",
        "    w_hidden = w_hidden - alpha*gradient_hidden\n",
        "    w_input = w_input - alpha*gradient_input"
      ],
      "execution_count": 7,
      "outputs": []
    },
    {
      "cell_type": "code",
      "metadata": {
        "id": "g8rzGhkVMSnZ",
        "colab_type": "code",
        "colab": {
          "base_uri": "https://localhost:8080/",
          "height": 87
        },
        "outputId": "b04f0e03-0da5-4bad-842e-0ba2699dd2fa"
      },
      "source": [
        "Y_hat"
      ],
      "execution_count": 8,
      "outputs": [
        {
          "output_type": "execute_result",
          "data": {
            "text/plain": [
              "array([[0.00165819],\n",
              "       [0.99835447],\n",
              "       [0.99835152],\n",
              "       [0.00164149]])"
            ]
          },
          "metadata": {
            "tags": []
          },
          "execution_count": 8
        }
      ]
    },
    {
      "cell_type": "markdown",
      "metadata": {
        "id": "DzqMZOT45YrI",
        "colab_type": "text"
      },
      "source": [
        "# 클래스"
      ]
    },
    {
      "cell_type": "code",
      "metadata": {
        "id": "GKKw3X7E5dt4",
        "colab_type": "code",
        "colab": {}
      },
      "source": [
        "import numpy as np\n",
        "from random import random\n",
        "\n",
        "class XOR:\n",
        "    def __init__(self, X, Y, N_hidden, alpha):\n",
        "        self.X = X\n",
        "        self.Y = Y\n",
        "        self.Y_ = Y.reshape(Y.shape[0], 1)\n",
        "        self.N_hidden = N_hidden\n",
        "        self.alpha = alpha\n",
        "        self.b = np.ones((len(self.X[0]),1))\n",
        "        self.X_b = np.concatenate((self.X.T, self.b), axis=1)\n",
        "        \n",
        "    \n",
        "    def forward(self):\n",
        "        w_input = np.zeros(((len(self.X)+1), self.N_hidden))\n",
        "        w_hidden = np.zeros((self.N_hidden, 1))\n",
        "\n",
        "        for i in range(len(self.X)+1):\n",
        "            for j in range(self.N_hidden):\n",
        "                w_input[i][j] = random()\n",
        "\n",
        "        for i in range(self.N_hidden):\n",
        "            w_hidden[i] = random()\n",
        "        w_b = random()\n",
        "\n",
        "        h = np.dot(X_b, w_input)\n",
        "        h = 1 / (1 + np.exp(-h))\n",
        "        b2 = self.b\n",
        "        Y_hat = np.dot(h, w_hidden) + b2 * w_b\n",
        "        Y_hat = 1 / (1 + np.exp(-Y_hat))\n",
        "\n",
        "        N = len(Y_hat)\n",
        "        loss = 0\n",
        "        for i in range(N):\n",
        "            loss += Y[i]*np.log(Y_hat[i]) + (1-Y[i])*np.log(1-Y_hat[i])\n",
        "        loss = (-1/N)*loss\n",
        "\n",
        "        gradient_hidden = np.dot(h.T, (Y_hat-Y_))\n",
        "        gradient_h = np.dot(Y_hat-Y_, w_hidden.T)\n",
        "        gradient_input = np.dot(X_b.T, np.multiply(gradient_h, h, 1-h))\n",
        "\n",
        "        w_hidden = w_hidden - alpha * gradient_hidden\n",
        "        w_input = w_input - alpha * gradient_input\n",
        "\n",
        "        return w_input, w_hidden, w_b, Y_hat\n",
        "\n",
        "    def train(self, iter):\n",
        "        self.iter = iter\n",
        "        b2 = self.b\n",
        "        w_input = self.forward()[0]\n",
        "        w_hidden = self.forward()[1]\n",
        "        w_b = self.forward()[2]\n",
        "        Y_hat = self.forward()[3]\n",
        "\n",
        "        for iter in range(self.iter):\n",
        "            h = np.dot(self.X_b, w_input)\n",
        "            h = 1 / (1 + np.exp(-h))\n",
        "            b2 = b2 - alpha * (Y_hat-self.Y_)\n",
        "            Y_hat = np.dot(h, w_hidden) + b2 * w_b\n",
        "            Y_hat = 1 / (1 + np.exp(-Y_hat))\n",
        "            \n",
        "            loss = 0\n",
        "            for i in range(N):\n",
        "                loss += Y[i]*np.log(Y_hat[i]) + (1-Y[i])*np.log(1-Y_hat[i])\n",
        "            loss = (-1/N)*loss\n",
        "\n",
        "            gradient_hidden = np.dot(h.T, (Y_hat-self.Y_))\n",
        "\n",
        "            gradient_h = np.dot(Y_hat-self.Y_, w_hidden.T)\n",
        "            gradient_input = np.dot(self.X_b.T, np.multiply(gradient_h, h, 1-h))\n",
        "\n",
        "            w_hidden = w_hidden - alpha*gradient_hidden\n",
        "            w_input = w_input - alpha*gradient_input\n",
        "        \n",
        "        return (Y_hat> 0.5)*1"
      ],
      "execution_count": 9,
      "outputs": []
    },
    {
      "cell_type": "code",
      "metadata": {
        "id": "DzvH7BLl_knq",
        "colab_type": "code",
        "colab": {}
      },
      "source": [
        "X = np.array([[0,0,1,1], [0,1,0,1]])\n",
        "Y = np.array([0,1,1,0])"
      ],
      "execution_count": 10,
      "outputs": []
    },
    {
      "cell_type": "code",
      "metadata": {
        "id": "TqbTXHXX_EMm",
        "colab_type": "code",
        "colab": {
          "base_uri": "https://localhost:8080/",
          "height": 87
        },
        "outputId": "e62524c5-20ce-4724-f61f-586c7e4ff3ac"
      },
      "source": [
        "# example 1.\n",
        "\n",
        "xor = XOR(X, Y, 3, alpha = 0.01)\n",
        "xor.train(iter = 10000)"
      ],
      "execution_count": 11,
      "outputs": [
        {
          "output_type": "execute_result",
          "data": {
            "text/plain": [
              "array([[0],\n",
              "       [1],\n",
              "       [1],\n",
              "       [0]])"
            ]
          },
          "metadata": {
            "tags": []
          },
          "execution_count": 11
        }
      ]
    },
    {
      "cell_type": "code",
      "metadata": {
        "id": "Natjz7lo-duF",
        "colab_type": "code",
        "colab": {
          "base_uri": "https://localhost:8080/",
          "height": 87
        },
        "outputId": "a4564f34-bec9-4978-be3c-801b52bacb59"
      },
      "source": [
        "# example 2.\n",
        "\n",
        "xor = XOR(X, Y, 6, alpha = 0.01)\n",
        "xor.train(iter = 1000)"
      ],
      "execution_count": 12,
      "outputs": [
        {
          "output_type": "execute_result",
          "data": {
            "text/plain": [
              "array([[0],\n",
              "       [1],\n",
              "       [1],\n",
              "       [0]])"
            ]
          },
          "metadata": {
            "tags": []
          },
          "execution_count": 12
        }
      ]
    }
  ]
}