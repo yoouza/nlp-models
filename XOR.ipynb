{
  "nbformat": 4,
  "nbformat_minor": 0,
  "metadata": {
    "colab": {
      "name": "XOR.ipynb",
      "provenance": [],
      "authorship_tag": "ABX9TyO+uVSIBcY3rt5UdaxmxvB4",
      "include_colab_link": true
    },
    "kernelspec": {
      "name": "python3",
      "display_name": "Python 3"
    }
  },
  "cells": [
    {
      "cell_type": "markdown",
      "metadata": {
        "id": "view-in-github",
        "colab_type": "text"
      },
      "source": [
        "<a href=\"https://colab.research.google.com/github/yoouza/nlp-models/blob/master/XOR.ipynb\" target=\"_parent\"><img src=\"https://colab.research.google.com/assets/colab-badge.svg\" alt=\"Open In Colab\"/></a>"
      ]
    },
    {
      "cell_type": "code",
      "metadata": {
        "id": "I1j6j7uxMFgW",
        "colab_type": "code",
        "colab": {}
      },
      "source": [
        "import numpy as np\n",
        "from random import random"
      ],
      "execution_count": 1,
      "outputs": []
    },
    {
      "cell_type": "code",
      "metadata": {
        "id": "WZia1EbWMC7i",
        "colab_type": "code",
        "colab": {}
      },
      "source": [
        "X = np.array([[0,0,1,1], [0,1,0,1]])\n",
        "Y = np.array([0,1,1,0])"
      ],
      "execution_count": 60,
      "outputs": []
    },
    {
      "cell_type": "code",
      "metadata": {
        "id": "CHd5PK1KMO0z",
        "colab_type": "code",
        "colab": {}
      },
      "source": [
        "# 1) 파라미터 초기화\n",
        "\n",
        "N_hidden = 2\n",
        "w_input = np.zeros(((len(X)+1), N_hidden))\n",
        "w_hidden = np.zeros((N_hidden+1, 1))\n",
        "\n",
        "for i in range(len(X)+1):\n",
        "    for j in range(N_hidden):\n",
        "        w_input[i][j] = random()\n",
        "\n",
        "for i in range(N_hidden+1):\n",
        "    w_hidden[i] = random()"
      ],
      "execution_count": 61,
      "outputs": []
    },
    {
      "cell_type": "code",
      "metadata": {
        "id": "fGBiDk7gNId3",
        "colab_type": "code",
        "colab": {}
      },
      "source": [
        "# 2) feed forward + sigmoid\n",
        "\n",
        "b = np.ones((len(X[0]),1))\n",
        "X_b = np.concatenate((X.T, b), axis=1)\n",
        "h = np.dot(X_b, w_input)\n",
        "\n",
        "def sigmoid(x):\n",
        "    return 1 / (1 + np.exp(-x))\n",
        "\n",
        "h = sigmoid(h)\n",
        "h_b = np.concatenate((h, b), axis=1)\n",
        "Y_hat = np.dot(h_b, w_hidden)\n",
        "Y_hat = sigmoid(Y_hat)"
      ],
      "execution_count": 62,
      "outputs": []
    },
    {
      "cell_type": "code",
      "metadata": {
        "id": "wL55-OzxY9D6",
        "colab_type": "code",
        "colab": {}
      },
      "source": [
        "# 3) Loss\n",
        "\n",
        "N = len(Y_hat)\n",
        "loss = 0\n",
        "for i in range(N):\n",
        "    loss += Y[i]*np.log(Y_hat[i]) + (1-Y[i])*np.log(1-Y_hat[i])\n",
        "loss = (-1/N)*loss"
      ],
      "execution_count": 63,
      "outputs": []
    },
    {
      "cell_type": "code",
      "metadata": {
        "id": "u3kn_dG4Y9GC",
        "colab_type": "code",
        "colab": {}
      },
      "source": [
        "# 4) Gradient\n",
        "\n",
        "alpha = 0.01\n",
        "\n",
        "# w2\n",
        "Y_ = Y.reshape(Y.shape[0], 1)\n",
        "gradient_hidden = np.dot(h_b.T, (Y_hat-Y_))\n",
        "\n",
        "# w1\n",
        "gradient_h = np.dot(Y_hat-Y_, w_hidden.T)\n",
        "gradient_input = np.dot(np.multiply(gradient_h, h_b, 1-h_b).T, X.T)\n",
        "\n",
        "# update by back-propagation\n",
        "w_hidden = w_hidden - alpha * gradient_hidden\n",
        "w_input = w_input - alpha * gradient_input"
      ],
      "execution_count": 64,
      "outputs": []
    },
    {
      "cell_type": "markdown",
      "metadata": {
        "id": "z9O4kjXMY9KS",
        "colab_type": "text"
      },
      "source": [
        "# weight update 반복"
      ]
    },
    {
      "cell_type": "code",
      "metadata": {
        "id": "J9A3ESKpQMSO",
        "colab_type": "code",
        "colab": {}
      },
      "source": [
        "for iter in range(100000):\n",
        "    h = np.dot(X_b, w_input)\n",
        "    h = sigmoid(h)\n",
        "    h_b = np.concatenate((h, b), axis=1)\n",
        "    Y_hat = np.dot(h_b, w_hidden)\n",
        "    Y_hat = sigmoid(Y_hat)\n",
        "\n",
        "    loss = 0\n",
        "    for i in range(N):\n",
        "        loss += Y[i]*np.log(Y_hat[i]) + (1-Y[i])*np.log(1-Y_hat[i])\n",
        "    loss = (-1/N)*loss\n",
        "\n",
        "    gradient_hidden = np.dot(h_b.T, (Y_hat-Y_))\n",
        "\n",
        "    gradient_h = np.dot(Y_hat-Y_, w_hidden.T)\n",
        "    gradient_input = np.dot(np.multiply(gradient_h, h_b, 1-h_b).T, X.T)\n",
        "\n",
        "    w_hidden = w_hidden - alpha*gradient_hidden\n",
        "    w_input = w_input - alpha*gradient_input"
      ],
      "execution_count": 71,
      "outputs": []
    },
    {
      "cell_type": "code",
      "metadata": {
        "id": "g8rzGhkVMSnZ",
        "colab_type": "code",
        "colab": {
          "base_uri": "https://localhost:8080/",
          "height": 89
        },
        "outputId": "62088c1c-b004-4038-8392-3d6e357bca57"
      },
      "source": [
        "Y_hat # ???"
      ],
      "execution_count": 80,
      "outputs": [
        {
          "output_type": "execute_result",
          "data": {
            "text/plain": [
              "array([[0.50139597],\n",
              "       [0.50042557],\n",
              "       [0.4997273 ],\n",
              "       [0.49882711]])"
            ]
          },
          "metadata": {
            "tags": []
          },
          "execution_count": 80
        }
      ]
    }
  ]
}