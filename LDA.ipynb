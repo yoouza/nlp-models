{
  "nbformat": 4,
  "nbformat_minor": 0,
  "metadata": {
    "colab": {
      "name": "LDA.ipynb",
      "provenance": [],
      "collapsed_sections": [],
      "authorship_tag": "ABX9TyPTF8Y95Yhkg9FsdF27L/Yc",
      "include_colab_link": true
    },
    "kernelspec": {
      "name": "python3",
      "display_name": "Python 3"
    }
  },
  "cells": [
    {
      "cell_type": "markdown",
      "metadata": {
        "id": "view-in-github",
        "colab_type": "text"
      },
      "source": [
        "<a href=\"https://colab.research.google.com/github/yoouza/nlp-models/blob/master/LDA.ipynb\" target=\"_parent\"><img src=\"https://colab.research.google.com/assets/colab-badge.svg\" alt=\"Open In Colab\"/></a>"
      ]
    },
    {
      "cell_type": "code",
      "metadata": {
        "id": "MxsPZgO2ofUB",
        "colab_type": "code",
        "colab": {
          "base_uri": "https://localhost:8080/",
          "height": 197
        },
        "outputId": "49fb6354-aee1-4d1d-8f31-d54c9ef46063"
      },
      "source": [
        "import random\n",
        "import string\n",
        "import nltk\n",
        "import random\n",
        "import numpy as np\n",
        "from nltk.tokenize import word_tokenize\n",
        "from nltk.stem import WordNetLemmatizer\n",
        "from nltk.corpus import stopwords, wordnet\n",
        "\n",
        "nltk.download('averaged_perceptron_tagger')\n",
        "nltk.download('punkt')\n",
        "nltk.download('stopwords')\n",
        "nltk.download('wordnet')"
      ],
      "execution_count": 1,
      "outputs": [
        {
          "output_type": "stream",
          "text": [
            "[nltk_data] Downloading package averaged_perceptron_tagger to\n",
            "[nltk_data]     /root/nltk_data...\n",
            "[nltk_data]   Unzipping taggers/averaged_perceptron_tagger.zip.\n",
            "[nltk_data] Downloading package punkt to /root/nltk_data...\n",
            "[nltk_data]   Unzipping tokenizers/punkt.zip.\n",
            "[nltk_data] Downloading package stopwords to /root/nltk_data...\n",
            "[nltk_data]   Unzipping corpora/stopwords.zip.\n",
            "[nltk_data] Downloading package wordnet to /root/nltk_data...\n",
            "[nltk_data]   Unzipping corpora/wordnet.zip.\n"
          ],
          "name": "stdout"
        },
        {
          "output_type": "execute_result",
          "data": {
            "text/plain": [
              "True"
            ]
          },
          "metadata": {
            "tags": []
          },
          "execution_count": 1
        }
      ]
    },
    {
      "cell_type": "markdown",
      "metadata": {
        "id": "kVRhLyAxKvGD",
        "colab_type": "text"
      },
      "source": [
        "# 전처리"
      ]
    },
    {
      "cell_type": "code",
      "metadata": {
        "id": "Pf_7xrWRHrtT",
        "colab_type": "code",
        "colab": {}
      },
      "source": [
        "doc_ls = [\"Cute kitty\",\n",
        "\"Eat rice or cake\",\n",
        "\"Kitty and hamster\",\n",
        "\"Eat bread\",\n",
        "\"Rice, bread and cake\",\n",
        "\"Cute hamster eats bread and cake\"]"
      ],
      "execution_count": 2,
      "outputs": []
    },
    {
      "cell_type": "code",
      "metadata": {
        "id": "X-aEnYs4ziJG",
        "colab_type": "code",
        "colab": {}
      },
      "source": [
        "# 불용어에 구두점 추가\n",
        "\n",
        "stopwords = stopwords.words('english')\n",
        "stopwords.extend(list(string.punctuation))"
      ],
      "execution_count": 3,
      "outputs": []
    },
    {
      "cell_type": "code",
      "metadata": {
        "id": "zAg4pN9VT9eV",
        "colab_type": "code",
        "colab": {
          "base_uri": "https://localhost:8080/",
          "height": 55
        },
        "outputId": "3a7a1686-1d66-4079-bd2e-57550de1a38b"
      },
      "source": [
        "print(stopwords)"
      ],
      "execution_count": 4,
      "outputs": [
        {
          "output_type": "stream",
          "text": [
            "['i', 'me', 'my', 'myself', 'we', 'our', 'ours', 'ourselves', 'you', \"you're\", \"you've\", \"you'll\", \"you'd\", 'your', 'yours', 'yourself', 'yourselves', 'he', 'him', 'his', 'himself', 'she', \"she's\", 'her', 'hers', 'herself', 'it', \"it's\", 'its', 'itself', 'they', 'them', 'their', 'theirs', 'themselves', 'what', 'which', 'who', 'whom', 'this', 'that', \"that'll\", 'these', 'those', 'am', 'is', 'are', 'was', 'were', 'be', 'been', 'being', 'have', 'has', 'had', 'having', 'do', 'does', 'did', 'doing', 'a', 'an', 'the', 'and', 'but', 'if', 'or', 'because', 'as', 'until', 'while', 'of', 'at', 'by', 'for', 'with', 'about', 'against', 'between', 'into', 'through', 'during', 'before', 'after', 'above', 'below', 'to', 'from', 'up', 'down', 'in', 'out', 'on', 'off', 'over', 'under', 'again', 'further', 'then', 'once', 'here', 'there', 'when', 'where', 'why', 'how', 'all', 'any', 'both', 'each', 'few', 'more', 'most', 'other', 'some', 'such', 'no', 'nor', 'not', 'only', 'own', 'same', 'so', 'than', 'too', 'very', 's', 't', 'can', 'will', 'just', 'don', \"don't\", 'should', \"should've\", 'now', 'd', 'll', 'm', 'o', 're', 've', 'y', 'ain', 'aren', \"aren't\", 'couldn', \"couldn't\", 'didn', \"didn't\", 'doesn', \"doesn't\", 'hadn', \"hadn't\", 'hasn', \"hasn't\", 'haven', \"haven't\", 'isn', \"isn't\", 'ma', 'mightn', \"mightn't\", 'mustn', \"mustn't\", 'needn', \"needn't\", 'shan', \"shan't\", 'shouldn', \"shouldn't\", 'wasn', \"wasn't\", 'weren', \"weren't\", 'won', \"won't\", 'wouldn', \"wouldn't\", '!', '\"', '#', '$', '%', '&', \"'\", '(', ')', '*', '+', ',', '-', '.', '/', ':', ';', '<', '=', '>', '?', '@', '[', '\\\\', ']', '^', '_', '`', '{', '|', '}', '~']\n"
          ],
          "name": "stdout"
        }
      ]
    },
    {
      "cell_type": "code",
      "metadata": {
        "id": "ckEqag2TLe1H",
        "colab_type": "code",
        "colab": {}
      },
      "source": [
        "# Lemmatization & 불용어 제거\n",
        "\n",
        "wnl = WordNetLemmatizer()\n",
        "word_ls = []\n",
        "word_ls_flat = []\n",
        "\n",
        "for doc in doc_ls:\n",
        "    words = word_tokenize(doc)\n",
        "    tmp = []\n",
        "    for word in words:\n",
        "        word = word.lower()\n",
        "        if word not in stopwords:\n",
        "            word_new = wnl.lemmatize(word, pos=\"v\")\n",
        "            tmp.append(word_new)\n",
        "            word_ls_flat.append(word_new)\n",
        "        else: pass\n",
        "    word_ls.append(tmp)"
      ],
      "execution_count": 5,
      "outputs": []
    },
    {
      "cell_type": "code",
      "metadata": {
        "id": "oms4Q5gFfzO2",
        "colab_type": "code",
        "colab": {
          "base_uri": "https://localhost:8080/",
          "height": 125
        },
        "outputId": "97cc2fe4-e083-4bd6-8adb-7dc7c3a359dd"
      },
      "source": [
        "word_ls"
      ],
      "execution_count": 6,
      "outputs": [
        {
          "output_type": "execute_result",
          "data": {
            "text/plain": [
              "[['cute', 'kitty'],\n",
              " ['eat', 'rice', 'cake'],\n",
              " ['kitty', 'hamster'],\n",
              " ['eat', 'bread'],\n",
              " ['rice', 'bread', 'cake'],\n",
              " ['cute', 'hamster', 'eat', 'bread', 'cake']]"
            ]
          },
          "metadata": {
            "tags": []
          },
          "execution_count": 6
        }
      ]
    },
    {
      "cell_type": "code",
      "metadata": {
        "id": "APZWfZr9cglt",
        "colab_type": "code",
        "colab": {}
      },
      "source": [
        "word_uniq = np.unique(word_ls_flat)"
      ],
      "execution_count": 7,
      "outputs": []
    },
    {
      "cell_type": "markdown",
      "metadata": {
        "id": "QdshELT6f9bb",
        "colab_type": "text"
      },
      "source": [
        "# LDA 구현 방향성\n",
        "- topic_ls: word_ls에 토픽 랜덤으로 할당, word_ls.shape와 동일\n",
        " - topic_ls의 i번째 단어 토픽은 0으로 초기화한 후 시작\n",
        "- theta: 문서 내 토픽 분포, shape(doc, topic)\\\n",
        " 문서_i 내 토픽 갯수 + alpha\n",
        "- phi: 토픽 내 단어 분포, shape(topic, word_uniq)\\\n",
        " 토픽_k 내 단어 갯수 + beta\n",
        "- word_uniq의 i번째 단어\\\n",
        "토픽_k에 대응하는 조건부 확률 p_k = p1 * p2\n",
        " - p1 = theta[doc_i][topic_k] / sum(theta[doc_i])\n",
        " - p2 = phi[topic_k][word_uniq_i] / sum(phi[topic_k])\n",
        "- p값 중 가장 큰 토픽_k 선택 후, topic_ls i에 업데이트\n",
        "- 위의 반복 과정 iteration 값 하이퍼파라미터로 설정\n"
      ]
    },
    {
      "cell_type": "code",
      "metadata": {
        "id": "QeWnsGGN4qDz",
        "colab_type": "code",
        "colab": {
          "base_uri": "https://localhost:8080/",
          "height": 316
        },
        "outputId": "ff4ed63c-25e6-4c2b-a963-5c69f6b8f804"
      },
      "source": [
        "# 토픽 할당: 초기 테이블 생성\n",
        "\n",
        "N_topic = 2 \n",
        "alpha = 0.1\n",
        "beta = 0.01\n",
        "topic_ls = []\n",
        "topic_ls_flat = []\n",
        "\n",
        "for doc in word_ls:\n",
        "    temp = []\n",
        "    for w in doc:\n",
        "        r = random.randint(1, N_topic)\n",
        "        topic_ls_flat.append(r)\n",
        "        temp.append(r)\n",
        "    topic_ls.append(temp)\n",
        "\n",
        "# for iter in range(N_iter):\n",
        "for N, word in enumerate(word_ls_flat): # N = 0, cute부터 시작!\n",
        "\n",
        "    # 토픽 초기화: 0 부여\n",
        "    topic_ls[?, ?] = 0\n",
        "\n",
        "    # theta: 문서 내 토픽 분포\n",
        "    theta = np.zeros((len(doc_ls), N_topic))\n",
        "    for i in range(len(doc_ls)):\n",
        "        for k in range(1, N_topic+1):\n",
        "            num = topic_ls[i].count(k)\n",
        "            theta[i][k-1] = num + alpha\n",
        "    \n",
        "    # phi: 토픽 내 단어 분포\n",
        "    topic_word = {}\n",
        "    for k in N_topic:\n",
        "        if topic_ls_flat[] == k+1:\n",
        "            topic_word[k+1] = \n",
        "\n",
        "    phi = np.zeros(N_topic, len(word_uniq))\n",
        "    for k in range(N_topic):\n",
        "        for w in word_uniq:\n",
        "            k+1\n",
        "\n",
        "    topic_ls_flat[N] = 업데이트\n",
        "\n",
        "\n",
        "# 토픽_k 내 단어 갯수 + beta"
      ],
      "execution_count": null,
      "outputs": [
        {
          "output_type": "stream",
          "text": [
            "0 0\n",
            "0 1\n",
            "1 0\n",
            "1 1\n",
            "1 2\n",
            "2 0\n",
            "2 1\n",
            "3 0\n",
            "3 1\n",
            "4 0\n",
            "4 1\n",
            "4 2\n",
            "5 0\n",
            "5 1\n",
            "5 2\n",
            "5 3\n",
            "5 4\n"
          ],
          "name": "stdout"
        }
      ]
    }
  ]
}